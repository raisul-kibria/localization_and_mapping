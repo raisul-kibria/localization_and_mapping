{
 "cells": [
  {
   "cell_type": "markdown",
   "id": "6b23ca5b-a3f6-4370-b0df-c033b93e0313",
   "metadata": {},
   "source": [
    "# L3.  SLAM "
   ]
  },
  {
   "cell_type": "markdown",
   "id": "ce350074-8201-42b2-b2c6-8bd060551d5b",
   "metadata": {},
   "source": [
    "### Define all the imports"
   ]
  },
  {
   "cell_type": "code",
   "execution_count": 1,
   "id": "f60f293c-eee8-4fb0-92a9-cc00a5522cf6",
   "metadata": {},
   "outputs": [],
   "source": [
    "%matplotlib inline \n",
    "import sys\n",
    "import os\n",
    "import numpy as np\n",
    "import pandas as pd\n",
    "import matplotlib.pyplot as plt\n",
    "import seaborn as sns"
   ]
  },
  {
   "cell_type": "code",
   "execution_count": 2,
   "id": "5addecc1-5286-416b-a4af-766649e34064",
   "metadata": {},
   "outputs": [],
   "source": [
    "# Change to main repo folder for the imports\n",
    "_, dir = os.path.split(os.getcwd())\n",
    "if dir == 'notebooks': \n",
    "    os.chdir('..')\n",
    "    sys.path.append(os.getcwd())\n",
    "pd.set_option('mode.chained_assignment', None)"
   ]
  },
  {
   "cell_type": "code",
   "execution_count": 3,
   "id": "55cfafdc",
   "metadata": {},
   "outputs": [],
   "source": [
    "from src.graph_SLAM.Graph_SLAM_known_correspondences import GraphSLAM"
   ]
  },
  {
   "cell_type": "markdown",
   "id": "e12d05ca-f5da-4601-a7af-e29da7d722df",
   "metadata": {},
   "source": [
    "### Set dataset"
   ]
  },
  {
   "cell_type": "code",
   "execution_count": 4,
   "id": "d5108eaa-c5e1-42e0-8908-fc013c52f09d",
   "metadata": {},
   "outputs": [],
   "source": [
    "# Define dataset to read\n",
    "dataset = \"data/MRCLAM_Dataset1\"\n",
    "robot = 'Robot1' # Robot\n",
    "start_frame = 2000\n",
    "end_frame = 5000"
   ]
  },
  {
   "cell_type": "markdown",
   "id": "138ab94c",
   "metadata": {},
   "source": [
    "### T1. Execute Graph SLAM with known correspondences\n",
    "Test different datasets and analyze the performance of the algorithm\n",
    "\n",
    "- What is the main limitation you see with this method?\n",
    "\n",
    "- Can this method be used to sole the full SLAM problem? and the online SLAM problem?\n",
    "\n",
    "- Which would be the main differences with respect to the EKF SLAM method?\n",
    "\n"
   ]
  },
  {
   "cell_type": "code",
   "execution_count": null,
   "id": "ce24b4dc",
   "metadata": {},
   "outputs": [],
   "source": [
    "# State covariance matrix\n",
    "R = np.diagflat(np.array([5, 5, 20])) ** 2\n",
    "# Measurement covariance matrix\n",
    "Q = np.diagflat(np.array([100.0, 100.0, 1e16])) ** 2\n",
    "# Iterations\n",
    "n = 10\n",
    "\n",
    "graph_slam = GraphSLAM(dataset, robot, start_frame, end_frame, n, R, Q, plot=True)\n",
    "plt.show()"
   ]
  },
  {
   "cell_type": "markdown",
   "id": "eadc24fb",
   "metadata": {},
   "source": [
    "### T2. Compare with EKF SLAM and FAST SLAM\n",
    "We are interested in comparing the results obtained with the Graph SLAM with the EKF SLAM and FAST SLAM. Compare the error metrics obtained with the execution of each method."
   ]
  },
  {
   "cell_type": "markdown",
   "id": "d88bfe6e-a84e-47fd-9752-5e118d09278f",
   "metadata": {},
   "source": [
    "#### Generate metrics"
   ]
  },
  {
   "cell_type": "code",
   "execution_count": null,
   "id": "17ee681b-d8a1-4cc4-91ad-39dce4ea61a5",
   "metadata": {},
   "outputs": [],
   "source": [
    "#Generate error metrics"
   ]
  },
  {
   "cell_type": "markdown",
   "id": "47201d90-0c4d-4a15-b38f-1ef58babda02",
   "metadata": {
    "tags": []
   },
   "source": [
    "#### Represent metrics"
   ]
  },
  {
   "cell_type": "code",
   "execution_count": 7,
   "id": "96052ee0-3a9e-431e-a487-284c5aaa223d",
   "metadata": {},
   "outputs": [],
   "source": [
    "# Represent metrics for all experiments"
   ]
  },
  {
   "cell_type": "markdown",
   "id": "79ac5360-e20a-4c45-9104-486dc5c1b246",
   "metadata": {},
   "source": [
    "#### Analize metrics"
   ]
  },
  {
   "cell_type": "code",
   "execution_count": 8,
   "id": "c74ee518-a4b1-4ee5-a07d-de75edbb8e7e",
   "metadata": {},
   "outputs": [],
   "source": [
    "# Analize the results and provide the mean error metrics across the experiments performed."
   ]
  }
 ],
 "metadata": {
  "kernelspec": {
   "display_name": "Python 3 (ipykernel)",
   "language": "python",
   "name": "python3"
  },
  "language_info": {
   "codemirror_mode": {
    "name": "ipython",
    "version": 3
   },
   "file_extension": ".py",
   "mimetype": "text/x-python",
   "name": "python",
   "nbconvert_exporter": "python",
   "pygments_lexer": "ipython3",
   "version": "3.8.10"
  }
 },
 "nbformat": 4,
 "nbformat_minor": 5
}
