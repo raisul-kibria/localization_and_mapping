{
 "cells": [
  {
   "cell_type": "markdown",
   "id": "6b23ca5b-a3f6-4370-b0df-c033b93e0313",
   "metadata": {},
   "source": [
    "# L4. Fast SLAM "
   ]
  },
  {
   "cell_type": "markdown",
   "id": "ce350074-8201-42b2-b2c6-8bd060551d5b",
   "metadata": {},
   "source": [
    "### Define all the imports"
   ]
  },
  {
   "cell_type": "code",
   "execution_count": 1,
   "id": "f60f293c-eee8-4fb0-92a9-cc00a5522cf6",
   "metadata": {},
   "outputs": [],
   "source": [
    "import sys\n",
    "import os\n",
    "import numpy as np\n",
    "import pandas as pd\n",
    "import matplotlib.pyplot as plt\n",
    "import seaborn as sns"
   ]
  },
  {
   "cell_type": "code",
   "execution_count": 2,
   "id": "5addecc1-5286-416b-a4af-766649e34064",
   "metadata": {},
   "outputs": [],
   "source": [
    "# Change to main repo folder for the imports\n",
    "_, dir = os.path.split(os.getcwd())\n",
    "if dir == 'notebooks': \n",
    "    os.chdir('..')\n",
    "    sys.path.append(os.getcwd())\n",
    "pd.set_option('mode.chained_assignment', None)"
   ]
  },
  {
   "cell_type": "code",
   "execution_count": 3,
   "id": "55cfafdc",
   "metadata": {},
   "outputs": [],
   "source": [
    "from src.fast_SLAM_1.Fast_SLAM_1_unknown_correspondences import FastSLAM1 as FastSLAM1\n",
    "from src.fast_SLAM_1.lib import MotionModel as FS1_MotionModel\n",
    "from src.fast_SLAM_1.lib import MeasurementModel as FS1_MeasurementModel\n",
    "\n",
    "from src.fast_SLAM_2.Fast_SLAM_2_unknown_correspondences import FastSLAM2 as FastSLAM2\n",
    "from src.fast_SLAM_2.lib import MotionModel as FS2_MotionModel\n",
    "from src.fast_SLAM_2.lib import MeasurementModel as FS2_MeasurementModel\n"
   ]
  },
  {
   "cell_type": "markdown",
   "id": "e12d05ca-f5da-4601-a7af-e29da7d722df",
   "metadata": {},
   "source": [
    "### Set dataset"
   ]
  },
  {
   "cell_type": "code",
   "execution_count": 4,
   "id": "d5108eaa-c5e1-42e0-8908-fc013c52f09d",
   "metadata": {},
   "outputs": [],
   "source": [
    "# Define dataset to read\n",
    "dataset = \"data/MRCLAM_Dataset1\"\n",
    "robot = 'Robot1' # Robot\n",
    "start_frame = 2000\n",
    "end_frame = 16000"
   ]
  },
  {
   "cell_type": "markdown",
   "id": "138ab94c",
   "metadata": {},
   "source": [
    "### T1. Execute Fast SLAM 1\n",
    "Test different datasets and analyze the performance of the algorithm"
   ]
  },
  {
   "cell_type": "code",
   "execution_count": null,
   "id": "ce24b4dc",
   "metadata": {},
   "outputs": [],
   "source": [
    "# Initialize Motion Model object\n",
    "# Motion noise (in meters / rad)\n",
    "# [noise_x, noise_y, noise_theta, noise_v, noise_w]\n",
    "# Fisrt three are used for initializing particles\n",
    "# Last two are used for motion update\n",
    "motion_noise = np.array([0.0, 0.0, 0.0, 0.1, 0.15])\n",
    "motion_model = FS1_MotionModel(motion_noise)\n",
    "\n",
    "# Initialize Measurement Model object\n",
    "# Measurement covariance matrix\n",
    "Q = np.diagflat(np.array([0.05, 0.02])) ** 2\n",
    "measurement_model = FS1_MeasurementModel(Q)\n",
    "\n",
    "# Initialize SLAM algorithm\n",
    "# Number of particles\n",
    "N_particles = 100\n",
    "\n",
    "fast_slam = FastSLAM1(motion_model, measurement_model)\n",
    "fast_slam.load_data(dataset, robot, start_frame, end_frame)\n",
    "fast_slam.initialization(N_particles)\n",
    "\n",
    "# Run full Fast SLAM 1.0 algorithm\n",
    "for data in fast_slam.data:\n",
    "    if (data[1] == -1):\n",
    "        fast_slam.robot_update(data)\n",
    "    else:\n",
    "        fast_slam.landmark_update(data)\n",
    "    fast_slam.state_update()\n",
    "    # Plot every n frames\n",
    "    if (len(fast_slam.states) % 200 == 0):\n",
    "        fast_slam.plot_data()\n",
    "plt.show()\n"
   ]
  },
  {
   "cell_type": "markdown",
   "id": "be469a33-f3f4-4266-9c7c-5568bdaeac0f",
   "metadata": {},
   "source": [
    "### T2. Execute Fast SLAM 2\n",
    "Test different datasets and analyze the performance of the algorithm"
   ]
  },
  {
   "cell_type": "code",
   "execution_count": null,
   "id": "c0b18381-087c-4a9b-80f7-e30d80bccdfd",
   "metadata": {},
   "outputs": [],
   "source": [
    "# Motion covariance matrix\n",
    "R = np.diagflat(np.array([0.01, 0.01, 0.01])) ** 2\n",
    "# Measurement covariance matrix\n",
    "# Q = np.diagflat(np.array([0.02, 0.04])) ** 2\n",
    "Q = np.diagflat(np.array([0.05, 0.10])) ** 2\n",
    "# Motion noise (in meters / rad)\n",
    "# [noise_x, noise_y, noise_theta, noise_v, noise_w]\n",
    "# Fisrt three are used for initializing particles\n",
    "# Last two are used for motion update\n",
    "motion_noise = np.array([0.0, 0.0, 0.0, 0.1, 0.15])\n",
    "\n",
    "# Initialize Motion Model object\n",
    "motion_model = FS2_MotionModel(R, motion_noise)\n",
    "\n",
    "# Initialize Measurement Model object\n",
    "measurement_model = FS2_MeasurementModel(R, Q)\n",
    "\n",
    "# Initialize SLAM algorithm\n",
    "# Number of particles\n",
    "N_particles = 50\n",
    "fast_slam = FastSLAM2(motion_model, measurement_model)\n",
    "fast_slam.load_data(dataset, robot, start_frame, end_frame)\n",
    "fast_slam.initialization(N_particles)\n",
    "\n",
    "# Run full Fast SLAM 1.0 algorithm\n",
    "for data in fast_slam.data:\n",
    "    if (data[1] == -1):\n",
    "        fast_slam.robot_update(data)\n",
    "    else:\n",
    "        fast_slam.landmark_update(data)\n",
    "    fast_slam.state_update()\n",
    "    # Plot every n frames\n",
    "    if (len(fast_slam.states) % 400 == 0):\n",
    "        fast_slam.plot_data()\n",
    "# fast_slam.plot_data()\n",
    "plt.show()"
   ]
  },
  {
   "cell_type": "markdown",
   "id": "eadc24fb",
   "metadata": {},
   "source": [
    "### T3. Iterate over diferent datasets\n",
    "We are interested in retrieving the error metrics for multiple datasets and represent them in order to asses the performance of both methods."
   ]
  },
  {
   "cell_type": "markdown",
   "id": "d88bfe6e-a84e-47fd-9752-5e118d09278f",
   "metadata": {},
   "source": [
    "#### Generate metrics"
   ]
  },
  {
   "cell_type": "code",
   "execution_count": null,
   "id": "17ee681b-d8a1-4cc4-91ad-39dce4ea61a5",
   "metadata": {},
   "outputs": [],
   "source": [
    "datasets = [\"data/MRCLAM_Dataset1\",\n",
    "            \"data/MRCLAM_Dataset2\",\n",
    "            \"data/MRCLAM_Dataset3\",\n",
    "            \"data/MRCLAM_Dataset4\"]\n",
    "robots = ['Robot1',\n",
    "          'Robot2',\n",
    "          'Robot3',\n",
    "          'Robot4']\n",
    "\n",
    "errors = pd.DataFrame(columns=['dataset','robot','path_error','max_error','final_error'])\n",
    "\n",
    "#for ds in datasets:\n",
    "   #for rob in robots:\n",
    "        # Load data\n",
    "        \n",
    "        # Get the three errors"
   ]
  },
  {
   "cell_type": "markdown",
   "id": "47201d90-0c4d-4a15-b38f-1ef58babda02",
   "metadata": {
    "tags": []
   },
   "source": [
    "#### Represent metrics"
   ]
  },
  {
   "cell_type": "code",
   "execution_count": null,
   "id": "96052ee0-3a9e-431e-a487-284c5aaa223d",
   "metadata": {},
   "outputs": [],
   "source": [
    "# Represent metrics for all experiments"
   ]
  },
  {
   "cell_type": "markdown",
   "id": "79ac5360-e20a-4c45-9104-486dc5c1b246",
   "metadata": {},
   "source": [
    "#### Analize metrics"
   ]
  },
  {
   "cell_type": "code",
   "execution_count": null,
   "id": "c74ee518-a4b1-4ee5-a07d-de75edbb8e7e",
   "metadata": {},
   "outputs": [],
   "source": [
    "# Analize the results and provide the mean error metrics across the experiments performed."
   ]
  }
 ],
 "metadata": {
  "kernelspec": {
   "display_name": "Python 3 (ipykernel)",
   "language": "python",
   "name": "python3"
  },
  "language_info": {
   "codemirror_mode": {
    "name": "ipython",
    "version": 3
   },
   "file_extension": ".py",
   "mimetype": "text/x-python",
   "name": "python",
   "nbconvert_exporter": "python",
   "pygments_lexer": "ipython3",
   "version": "3.8.10"
  }
 },
 "nbformat": 4,
 "nbformat_minor": 5
}
